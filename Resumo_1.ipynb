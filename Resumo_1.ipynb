{
 "cells": [
  {
   "cell_type": "markdown",
   "metadata": {},
   "source": [
    "## 1) Elabore um exemplo básico para previsão de datas:"
   ]
  },
  {
   "cell_type": "code",
   "execution_count": 4,
   "metadata": {},
   "outputs": [
    {
     "name": "stdout",
     "output_type": "stream",
     "text": [
      "2024-05-24 19:43:31.849363\n"
     ]
    }
   ],
   "source": [
    "from datetime import datetime, timedelta  ##utilização da biblioteca datetime para tal exemplo e timedelta para contagem de datas##\n",
    "\n",
    "data_atual = datetime.now()     ##para identificar a data atual no seu computador## \n",
    "data_futura = data_atual + timedelta(7)     ##acrescentado o timedelta para fazer a contagem a partir da data atual##  \n",
    "print(data_futura)"
   ]
  },
  {
   "cell_type": "markdown",
   "metadata": {},
   "source": [
    "## 2) Plataformas interessantes para buscar ajuda em tópicos online:"
   ]
  },
  {
   "cell_type": "code",
   "execution_count": null,
   "metadata": {},
   "outputs": [],
   "source": [
    "##Para videos é interessante utilizar www.youtube.com e para um fórum com tópicos que são bastante interessantes https://stackoverflow.com/"
   ]
  },
  {
   "cell_type": "markdown",
   "metadata": {},
   "source": [
    "## 3) Badges podem ser geradas para melhor visualização do usuário através de: https://shields.io/"
   ]
  },
  {
   "cell_type": "code",
   "execution_count": null,
   "metadata": {},
   "outputs": [],
   "source": [
    "##Algumas badges que são comumente utilizadas\n",
    "\n",
    "[![LinkedIn](https://img.shields.io/badge/LinkedIn-0077B5?style=for-the-badge&logo=linkedin&logoColor=white)](https://www.linkedin.com/in/SEUUSERNAME/)\n",
    " \n",
    "[![GitHub](https://img.shields.io/badge/GitHub-100000?style=for-the-badge&logo=github&logoColor=white)](https://github.com/SEUUSERNAME)\n",
    "  \n",
    "![HTML5](https://img.shields.io/badge/HTML5-E34F26?style=for-the-badge&logo=html5&logoColor=white)\n",
    "\n",
    "![CSS3](https://img.shields.io/badge/CSS3-1572B6?style=for-the-badge&logo=css3&logoColor=white)\n",
    "\n",
    "[![Facebook](https://img.shields.io/badge/Facebook-1877F2?style=for-the-badge&logo=facebook&logoColor=white)](https://www.facebook.com/SEUUSERNAME/)\n",
    " \n",
    "[![X](https://img.shields.io/badge/X-000?style=for-the-badge&logo=x)](https://x.com/SEUUSERNAME)\n",
    " \n",
    "[![Gmail](https://img.shields.io/badge/Gmail-333333?style=for-the-badge&logo=gmail&logoColor=red)](mailto:SEUGMAIL)\n",
    " \n",
    "![Sass](https://img.shields.io/badge/Sass-000?style=for-the-badge&logo=sass)\n",
    "\n",
    "![JavaScript](https://img.shields.io/badge/JavaScript-F7DF1E?style=for-the-badge&logo=javascript&logoColor=black)\n",
    "\n",
    "![Java](https://img.shields.io/badge/java-%23ED8B00.svg?style=for-the-badge&logo=openjdk&logoColor=white)\n",
    "\n",
    "![Python](https://img.shields.io/badge/python-3670A0?style=for-the-badge&logo=python&logoColor=ffdd54)\n",
    "\n",
    "![AWS](https://img.shields.io/badge/AWS-000.svg?style=for-the-badge&logo=amazon-aws&logoColor=white)\n",
    "\n",
    "![Azure](https://img.shields.io/badge/Azure-blue?style=for-the-badge&logo=microsoft%20azure&logoColor=blue&labelColor=FFFFFF&link=https%3A%2F%2Fimages.app.goo.gl%2FK7PN1jYJd57x4q7A8)\n",
    "\n",
    "![Git](https://img.shields.io/badge/GIT-E44C30?style=for-the-badge&logo=git&logoColor=white)\n",
    "\n",
    "![Vscode](https://img.shields.io/badge/Vscode-007ACC?style=for-the-badge&logo=visual-studio-code&logoColor=white)"
   ]
  },
  {
   "cell_type": "markdown",
   "metadata": {},
   "source": [
    "## 4)Algumas bibliotecas bastante utilizadas na análise de dados e como importar."
   ]
  },
  {
   "cell_type": "code",
   "execution_count": null,
   "metadata": {},
   "outputs": [],
   "source": [
    "import pandas as pd\n",
    "import matplotlib as matplotlib\n",
    "import numpy as np\n",
    "import seaborn as seaborn"
   ]
  },
  {
   "cell_type": "markdown",
   "metadata": {},
   "source": [
    "## 5) Para entregar um dashboar extremamente analitico utilizamos a seguinte biblioteca:"
   ]
  },
  {
   "cell_type": "code",
   "execution_count": null,
   "metadata": {},
   "outputs": [],
   "source": [
    "import dash as dash"
   ]
  },
  {
   "cell_type": "markdown",
   "metadata": {},
   "source": [
    "## 6) Um exemplo para definir uma função e utilizar um condição:"
   ]
  },
  {
   "cell_type": "code",
   "execution_count": null,
   "metadata": {},
   "outputs": [],
   "source": [
    "def calcular_fatorial(numero1):\n",
    "    if numero1 == 1:\n",
    "        return 1\n",
    "\n",
    "    return numero1 * calcular_fatorial(numero1 - 1)\n",
    "\n",
    "numero1 = int(input(\"informe um número: \"))\n",
    "resultado = calcular_fatorial(numero1)\n",
    "print(\"O fatorial de\", numero1, \"é\", resultado)"
   ]
  },
  {
   "cell_type": "markdown",
   "metadata": {},
   "source": [
    "## 7) Para adivinhar um número aleatório devemos importar random."
   ]
  },
  {
   "cell_type": "code",
   "execution_count": null,
   "metadata": {},
   "outputs": [],
   "source": [
    "import random\n",
    "\n",
    "def num_aleat():\n",
    "  aleatorio=random.randint(1,100)\n",
    "  chute=None\n",
    "  while aleatorio != chute:\n",
    "    chute=int(input(\"digite um número entre 1 e 100: \"))\n",
    "    if (aleatorio > chute):\n",
    "      print(\"Foi longe. Um pouco mais.\")\n",
    "    elif (aleatorio < chute):\n",
    "      print(\"Quase lá. Um pouco menos.\")\n",
    "    else:\n",
    "      print(\"Congratulations. You're right!\")\n",
    "\n",
    "num_aleat()\n"
   ]
  },
  {
   "cell_type": "markdown",
   "metadata": {},
   "source": [
    "## 8) Quando se quer controlar o número de casas decimais em uma variável que recebe número real."
   ]
  },
  {
   "cell_type": "code",
   "execution_count": null,
   "metadata": {},
   "outputs": [],
   "source": [
    "no_real = float(input(\"Insira um número real com 6 casas decimais: \"))\n",
    "no_csas_dec = int(input(\"Qual o número de casas decimais desejadas? \"))\n",
    "no_format = round(no_real , no_csas_dec)\n",
    "print(no_format)"
   ]
  },
  {
   "cell_type": "markdown",
   "metadata": {},
   "source": [
    "## 9) Trabalhando com listas de notas."
   ]
  },
  {
   "cell_type": "code",
   "execution_count": null,
   "metadata": {},
   "outputs": [],
   "source": [
    "notas = []\n",
    "contador = 1\n",
    "\n",
    "while contador < 5:\n",
    "    notas.append(float(input(f'Informe a {contador}a nota: ')))\n",
    "    contador += 1\n",
    "\n",
    "maior_nota = max(notas)\n",
    "menor_nota = min(notas)\n",
    "media = sum(notas) / len(notas)\n",
    "\n",
    "print(f'A média final é {media:.2f}. A sua maior nota foi {maior_nota:.2f} e a menor foi {menor_nota:.2f}')"
   ]
  },
  {
   "cell_type": "markdown",
   "metadata": {},
   "source": [
    "## 10) Informar um número qualquer e mostrar antecessor e sucessor."
   ]
  },
  {
   "cell_type": "code",
   "execution_count": null,
   "metadata": {},
   "outputs": [],
   "source": [
    "numero = int(input('Informe um número inteiro qualquer: '))\n",
    "print(f'O antecessor do número {numero} é {numero - 1}, e o sucessor é {numero + 1}')"
   ]
  },
  {
   "cell_type": "markdown",
   "metadata": {},
   "source": [
    "## 11) Para o programa saber diferenciar string de int ou float utilizamos (eval)."
   ]
  },
  {
   "cell_type": "code",
   "execution_count": null,
   "metadata": {},
   "outputs": [],
   "source": [
    "a = eval(input(\"Informe um valor\"))\n",
    "if a == 1:\n",
    "    pass\n",
    "elif a == 2:\n",
    "    pass\n",
    "elif a == 3:\n",
    "    pass\n",
    "else:\n",
    "    pass"
   ]
  },
  {
   "cell_type": "markdown",
   "metadata": {},
   "source": [
    "## 12) Utilizamo TRY para tentar forçar a rodar um programa."
   ]
  },
  {
   "cell_type": "code",
   "execution_count": null,
   "metadata": {},
   "outputs": [],
   "source": [
    "try:\n",
    "    numero = int(\"Olá\")\n",
    "except:\n",
    "    print(\"Numero inválido\")\n",
    "finally:\n",
    "    print(\"Passei aqui...\")    \n",
    "\n",
    "print(\"Vida que segue...\")"
   ]
  },
  {
   "cell_type": "code",
   "execution_count": null,
   "metadata": {},
   "outputs": [],
   "source": [
    "valor = input(\"Informe um valor:\")\n",
    "b = False\n",
    "try:\n",
    "    n = int(valor)\n",
    "    b = True\n",
    "except:\n",
    "    print(\"Valor inválido\")\n",
    "\n",
    "if b:\n",
    "    print(\"O número possui\",len(valor),\"dígitos\")"
   ]
  },
  {
   "cell_type": "markdown",
   "metadata": {},
   "source": [
    "## 13) Calculadora com operações básicas."
   ]
  },
  {
   "cell_type": "code",
   "execution_count": null,
   "metadata": {},
   "outputs": [],
   "source": [
    "a = eval(input(\"Digite o primeiro valor:\"))\n",
    "b = eval(input(\"Digite o segundo valor:\"))\n",
    "oper = input(\"Escolha a operação: +, -, /, *, // ou **:\")\n",
    "\n",
    "if oper == '+':\n",
    "    print(\"Resultado:\", a + b)\n",
    "elif oper == '-':\n",
    "    print(\"Resultado:\", a - b)\n",
    "elif oper == '*':\n",
    "    print(\"Resultado:\", a * b)\n",
    "elif oper == '/':\n",
    "    print(\"Resultado:\", a / b)\n",
    "elif oper == '//':\n",
    "    print(\"Resultado:\", a // b)\n",
    "elif oper == '**':\n",
    "    print(\"Resultado:\", a ** b)\n",
    "else:\n",
    "    print(\"Operação Inválida!\")"
   ]
  },
  {
   "cell_type": "markdown",
   "metadata": {},
   "source": [
    "## 14)"
   ]
  }
 ],
 "metadata": {
  "kernelspec": {
   "display_name": "Python 3",
   "language": "python",
   "name": "python3"
  },
  "language_info": {
   "codemirror_mode": {
    "name": "ipython",
    "version": 3
   },
   "file_extension": ".py",
   "mimetype": "text/x-python",
   "name": "python",
   "nbconvert_exporter": "python",
   "pygments_lexer": "ipython3",
   "version": "3.11.4"
  },
  "orig_nbformat": 4
 },
 "nbformat": 4,
 "nbformat_minor": 2
}
